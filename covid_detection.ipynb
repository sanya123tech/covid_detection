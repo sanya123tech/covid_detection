{
  "nbformat": 4,
  "nbformat_minor": 0,
  "metadata": {
    "colab": {
      "provenance": [],
      "mount_file_id": "1pxqvMteFferBQZZRDi1ZOk1C-CyNyxQp",
      "authorship_tag": "ABX9TyOz4IdKQC292q9RyWjibagK",
      "include_colab_link": true
    },
    "kernelspec": {
      "name": "python3",
      "display_name": "Python 3"
    },
    "language_info": {
      "name": "python"
    },
    "accelerator": "GPU"
  },
  "cells": [
    {
      "cell_type": "markdown",
      "metadata": {
        "id": "view-in-github",
        "colab_type": "text"
      },
      "source": [
        "<a href=\"https://colab.research.google.com/github/sanya123tech/covid_detection/blob/main/covid_detection.ipynb\" target=\"_parent\"><img src=\"https://colab.research.google.com/assets/colab-badge.svg\" alt=\"Open In Colab\"/></a>"
      ]
    },
    {
      "cell_type": "code",
      "execution_count": 31,
      "metadata": {
        "colab": {
          "base_uri": "https://localhost:8080/"
        },
        "id": "M67ZDBMfVg5F",
        "outputId": "c8da3554-5ac3-470c-c039-c40643962b3b"
      },
      "outputs": [
        {
          "output_type": "stream",
          "name": "stdout",
          "text": [
            "Looking in indexes: https://pypi.org/simple, https://us-python.pkg.dev/colab-wheels/public/simple/\n",
            "Requirement already satisfied: Pillow in /usr/local/lib/python3.7/dist-packages (7.1.2)\n"
          ]
        }
      ],
      "source": [
        "pip install Pillow"
      ]
    },
    {
      "cell_type": "code",
      "source": [
        "from google.colab import drive\n",
        "drive.mount('/content/drive')"
      ],
      "metadata": {
        "colab": {
          "base_uri": "https://localhost:8080/"
        },
        "id": "Y24yTWC7VknI",
        "outputId": "265ee63b-1ae4-4c5b-f429-ed3e191bd3eb"
      },
      "execution_count": 1,
      "outputs": [
        {
          "output_type": "stream",
          "name": "stdout",
          "text": [
            "Mounted at /content/drive\n"
          ]
        }
      ]
    },
    {
      "cell_type": "code",
      "source": [
        "import numpy as np\n",
        "import matplotlib.pyplot as plt\n",
        "import keras\n",
        "from keras.layers import Dense, Conv2D, MaxPool2D,Dropout,Flatten\n",
        "from keras.models import Sequential\n",
        "\n",
        "import tensorflow as tf\n",
        "\n",
        "from PIL import Image\n",
        "from PIL import Image\n",
        "from numpy import asarray\n"
      ],
      "metadata": {
        "id": "ASLIW7Q8WPh3"
      },
      "execution_count": 33,
      "outputs": []
    },
    {
      "cell_type": "code",
      "source": [
        "#using data generators to do image augmentation\n",
        "train_datagen=image.ImageDataGenerator(\n",
        "    rescale= 1/255,horizontal_flip=True, zoom_range=0.2,shear_range=0.2\n",
        ")\n",
        "train_data=train_datagen.flow_from_directory(directory=\"/content/drive/MyDrive/Covid19-dataset/train\",target_size=(256,256),batch_size=16,\n",
        "                                             class_mode='binary')"
      ],
      "metadata": {
        "colab": {
          "base_uri": "https://localhost:8080/"
        },
        "id": "rfr0fzG1XElA",
        "outputId": "f324825c-7a19-4daa-8fa5-93911359e53a"
      },
      "execution_count": 23,
      "outputs": [
        {
          "output_type": "stream",
          "name": "stdout",
          "text": [
            "Found 181 images belonging to 2 classes.\n"
          ]
        }
      ]
    },
    {
      "cell_type": "code",
      "source": [
        "train_data.class_indices"
      ],
      "metadata": {
        "colab": {
          "base_uri": "https://localhost:8080/"
        },
        "id": "FLmGvrGIY70o",
        "outputId": "73a1875a-e77f-4bfa-e7f9-c6f8c5cd7042"
      },
      "execution_count": 5,
      "outputs": [
        {
          "output_type": "execute_result",
          "data": {
            "text/plain": [
              "{'Covid': 0, 'Normal': 1}"
            ]
          },
          "metadata": {},
          "execution_count": 5
        }
      ]
    },
    {
      "cell_type": "code",
      "source": [
        "test_datagen=image.ImageDataGenerator(\n",
        "    rescale= 1/255\n",
        ")\n",
        "test_data=train_datagen.flow_from_directory(directory=\"/content/drive/MyDrive/Covid19-dataset/test\",target_size=(256,256),batch_size=16,\n",
        "                                             class_mode='binary')"
      ],
      "metadata": {
        "colab": {
          "base_uri": "https://localhost:8080/"
        },
        "id": "klOXo2pCZGTd",
        "outputId": "b82e79af-eb0b-42f5-9dbd-c18c5cb09877"
      },
      "execution_count": 8,
      "outputs": [
        {
          "output_type": "stream",
          "name": "stdout",
          "text": [
            "Found 64 images belonging to 2 classes.\n"
          ]
        }
      ]
    },
    {
      "cell_type": "code",
      "source": [
        "#cnn model\n",
        "\n",
        "model=Sequential()\n",
        "model.add(Conv2D(filters=32,kernel_size=(3,3),activation='relu',input_shape=(256,256,3)))\n",
        "\n",
        "model.add(Conv2D(filters=64,kernel_size=(3,3),activation='relu'))\n",
        "model.add(MaxPool2D())\n",
        "model.add(Dropout(rate=0.25))\n",
        "\n",
        "model.add(Conv2D(filters=64,kernel_size=(3,3),activation='relu'))\n",
        "model.add(MaxPool2D())\n",
        "model.add(Dropout(rate=0.25))\n",
        "\n",
        "model.add(Conv2D(filters=128,kernel_size=(3,3),activation='relu'))\n",
        "model.add(MaxPool2D())\n",
        "model.add(Dropout(rate=0.25))\n",
        "\n",
        "model.add(Flatten())\n",
        "model.add(Dense(units=64,activation='relu'))\n",
        "model.add(Dropout(rate=0.50))\n",
        "model.add(Dense(units=1, activation='sigmoid'))\n",
        "\n",
        "\n",
        "model.compile(loss=keras.losses.binary_crossentropy,optimizer='adam',metrics=['acc'])\n",
        "\n",
        "\n"
      ],
      "metadata": {
        "id": "0QGaxsREZima"
      },
      "execution_count": 11,
      "outputs": []
    },
    {
      "cell_type": "code",
      "source": [
        "model.summary()"
      ],
      "metadata": {
        "colab": {
          "base_uri": "https://localhost:8080/"
        },
        "id": "0cW9owQmc2l4",
        "outputId": "2a28616f-93c7-40b0-bb6b-7f56f69b2d94"
      },
      "execution_count": 13,
      "outputs": [
        {
          "output_type": "stream",
          "name": "stdout",
          "text": [
            "Model: \"sequential_2\"\n",
            "_________________________________________________________________\n",
            " Layer (type)                Output Shape              Param #   \n",
            "=================================================================\n",
            " conv2d_8 (Conv2D)           (None, 254, 254, 32)      896       \n",
            "                                                                 \n",
            " conv2d_9 (Conv2D)           (None, 252, 252, 64)      18496     \n",
            "                                                                 \n",
            " max_pooling2d_6 (MaxPooling  (None, 126, 126, 64)     0         \n",
            " 2D)                                                             \n",
            "                                                                 \n",
            " dropout_7 (Dropout)         (None, 126, 126, 64)      0         \n",
            "                                                                 \n",
            " conv2d_10 (Conv2D)          (None, 124, 124, 64)      36928     \n",
            "                                                                 \n",
            " max_pooling2d_7 (MaxPooling  (None, 62, 62, 64)       0         \n",
            " 2D)                                                             \n",
            "                                                                 \n",
            " dropout_8 (Dropout)         (None, 62, 62, 64)        0         \n",
            "                                                                 \n",
            " conv2d_11 (Conv2D)          (None, 60, 60, 128)       73856     \n",
            "                                                                 \n",
            " max_pooling2d_8 (MaxPooling  (None, 30, 30, 128)      0         \n",
            " 2D)                                                             \n",
            "                                                                 \n",
            " dropout_9 (Dropout)         (None, 30, 30, 128)       0         \n",
            "                                                                 \n",
            " flatten_1 (Flatten)         (None, 115200)            0         \n",
            "                                                                 \n",
            " dense_2 (Dense)             (None, 64)                7372864   \n",
            "                                                                 \n",
            " dropout_10 (Dropout)        (None, 64)                0         \n",
            "                                                                 \n",
            " dense_3 (Dense)             (None, 1)                 65        \n",
            "                                                                 \n",
            "=================================================================\n",
            "Total params: 7,503,105\n",
            "Trainable params: 7,503,105\n",
            "Non-trainable params: 0\n",
            "_________________________________________________________________\n"
          ]
        }
      ]
    },
    {
      "cell_type": "code",
      "source": [
        "model.fit_generator(train_data,steps_per_epoch=8,epochs=10,validation_steps=2, \n",
        "                    validation_data=test_data\n",
        "                    )"
      ],
      "metadata": {
        "colab": {
          "base_uri": "https://localhost:8080/"
        },
        "id": "XfH3Ce_Nc8h7",
        "outputId": "17fee163-22cb-4872-afe5-d2511517712e"
      },
      "execution_count": 14,
      "outputs": [
        {
          "output_type": "stream",
          "name": "stderr",
          "text": [
            "/usr/local/lib/python3.7/dist-packages/ipykernel_launcher.py:2: UserWarning: `Model.fit_generator` is deprecated and will be removed in a future version. Please use `Model.fit`, which supports generators.\n",
            "  \n"
          ]
        },
        {
          "output_type": "stream",
          "name": "stdout",
          "text": [
            "Epoch 1/10\n",
            "8/8 [==============================] - 121s 14s/step - loss: 1.5544 - acc: 0.5234 - val_loss: 0.6524 - val_acc: 0.7500\n",
            "Epoch 2/10\n",
            "8/8 [==============================] - 36s 5s/step - loss: 0.6909 - acc: 0.5470 - val_loss: 0.6842 - val_acc: 0.7188\n",
            "Epoch 3/10\n",
            "8/8 [==============================] - 14s 2s/step - loss: 0.6543 - acc: 0.6250 - val_loss: 0.6406 - val_acc: 0.6250\n",
            "Epoch 4/10\n",
            "8/8 [==============================] - 8s 1s/step - loss: 0.6118 - acc: 0.6752 - val_loss: 0.5295 - val_acc: 0.7500\n",
            "Epoch 5/10\n",
            "8/8 [==============================] - 10s 1s/step - loss: 0.6053 - acc: 0.7009 - val_loss: 0.5843 - val_acc: 0.9062\n",
            "Epoch 6/10\n",
            "8/8 [==============================] - 10s 1s/step - loss: 0.5262 - acc: 0.7692 - val_loss: 0.3858 - val_acc: 0.8438\n",
            "Epoch 7/10\n",
            "8/8 [==============================] - 9s 1s/step - loss: 0.4851 - acc: 0.7607 - val_loss: 0.4820 - val_acc: 0.8438\n",
            "Epoch 8/10\n",
            "8/8 [==============================] - 9s 1s/step - loss: 0.3877 - acc: 0.8120 - val_loss: 0.2749 - val_acc: 0.8438\n",
            "Epoch 9/10\n",
            "8/8 [==============================] - 9s 1s/step - loss: 0.4263 - acc: 0.7863 - val_loss: 0.4317 - val_acc: 0.9062\n",
            "Epoch 10/10\n",
            "8/8 [==============================] - 9s 1s/step - loss: 0.3379 - acc: 0.8750 - val_loss: 0.3446 - val_acc: 0.8750\n"
          ]
        },
        {
          "output_type": "execute_result",
          "data": {
            "text/plain": [
              "<keras.callbacks.History at 0x7f102038aa50>"
            ]
          },
          "metadata": {},
          "execution_count": 14
        }
      ]
    },
    {
      "cell_type": "code",
      "source": [
        "path=\"/content/drive/MyDrive/dataset/n2.jpg\"\n",
        "img=tf.keras.utils.load_img(path, target_size=(256,256))\n",
        "\n",
        "img=asarray(img)/255\n",
        "img=np.array([img])\n",
        "img.shape"
      ],
      "metadata": {
        "colab": {
          "base_uri": "https://localhost:8080/"
        },
        "id": "GAUux7BjfAPo",
        "outputId": "f20a937d-6173-4fe4-f17b-f7c37214afdc"
      },
      "execution_count": 42,
      "outputs": [
        {
          "output_type": "execute_result",
          "data": {
            "text/plain": [
              "(1, 256, 256, 3)"
            ]
          },
          "metadata": {},
          "execution_count": 42
        }
      ]
    },
    {
      "cell_type": "code",
      "source": [
        "(model.predict(img) > 0.5).astype(\"int32\")"
      ],
      "metadata": {
        "colab": {
          "base_uri": "https://localhost:8080/"
        },
        "id": "MiL7YUvXobyL",
        "outputId": "e6a97897-9fe6-480e-b4a6-3029e0b96132"
      },
      "execution_count": 43,
      "outputs": [
        {
          "output_type": "stream",
          "name": "stdout",
          "text": [
            "1/1 [==============================] - 0s 18ms/step\n"
          ]
        },
        {
          "output_type": "execute_result",
          "data": {
            "text/plain": [
              "array([[1]], dtype=int32)"
            ]
          },
          "metadata": {},
          "execution_count": 43
        }
      ]
    }
  ]
}